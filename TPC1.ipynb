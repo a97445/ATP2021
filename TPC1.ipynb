{
 "cells": [
  {
   "cell_type": "code",
   "execution_count": 1,
   "id": "5ce66cff",
   "metadata": {},
   "outputs": [],
   "source": [
    "def menu():\n",
    "    print(\"Bem vindo ao jogo dos 21 fósforos!Deseja jogar em primeiro?\")\n",
    "    x= input()\n",
    "    if x == \"Sim\":\n",
    "        Player()\n",
    "    else:\n",
    "        Comp()"
   ]
  },
  {
   "cell_type": "code",
   "execution_count": 2,
   "id": "7d60ff76",
   "metadata": {},
   "outputs": [],
   "source": [
    "def Player():\n",
    "    fosforos = 21\n",
    "    while fosforos > 1:\n",
    "        print(\"Quantos fósforos deseja retirar?\")\n",
    "        y =int(input())\n",
    "        if y not in range(1,5):\n",
    "            print(\"Número impossível.\")\n",
    "        else:\n",
    "            c=5-int(y)\n",
    "            print(\"Retiro \" + str(c) + \" fósforos.\")\n",
    "            fosforos=fosforos-5\n",
    "            print(\"Restam\"+ str(fosforos))\n",
    "    if fosforos == 1:\n",
    "        print(\"Perdeu, fim de jogo!\")\n"
   ]
  },
  {
   "cell_type": "code",
   "execution_count": 3,
   "id": "0e4d8bac",
   "metadata": {},
   "outputs": [],
   "source": [
    "import random\n",
    "def Comp():\n",
    "    fosforos =21\n",
    "    while fosforos>1:\n",
    "        x = random.randrange(1,5)\n",
    "        print(\"Retiro \" + str(x) + \" fósforos\")\n",
    "        print(\"Quantos fósforos deseja retirar?\")\n",
    "        y = int(input())\n",
    "        if y not in range(1,5):\n",
    "            print(\"Número impossível\")\n",
    "        else:\n",
    "            fosforos = fosforos-x-y\n",
    "            print(\"Restam\"+ str(fosforos))\n",
    "            if fosforos==1:\n",
    "                print(\"Parabéns, ganhou!\")\n",
    "            if x + y < 5:\n",
    "                x=5-x-y\n",
    "                print(\"Retiro \" + str(x) +\" fósforos.\")\n",
    "                fosforos = fosforos - x\n",
    "                print(\"Restam\"+ str(fosforos))\n",
    "                while fosforos > 1:\n",
    "                    print(\"Quantos fósforos deseja retirar?\")\n",
    "                    y =int(input())\n",
    "                    if y not in range(1,5):\n",
    "                        print(\"Número impossível.\")\n",
    "                    else:\n",
    "                        c=5-int(y)\n",
    "                        print(\"Retiro \" + str(c) + \" fósforos.\")\n",
    "                        fosforos=fosforos-5\n",
    "                        print(\"Restam\"+ str(fosforos))\n",
    "                if fosforos == 1:\n",
    "                    print(\"Perdeu, fim de jogo!\")\n",
    "            elif x + y > 5:\n",
    "                x= 10-x-y\n",
    "                print(\"Retiro \" + str(x) +\" fósforos.\")\n",
    "                fosforos = fosforos - x\n",
    "                print(\"Restam\"+ str(fosforos))\n",
    "                while fosforos > 1:\n",
    "                    print(\"Quantos fósforos deseja retirar?\")\n",
    "                    y =int(input())\n",
    "                    if y not in range(1,5):\n",
    "                        print(\"Número impossível.\")\n",
    "                    else:\n",
    "                        c=5-int(y)\n",
    "                        print(\"Retiro \" + str(c) + \" fósforos.\")\n",
    "                        fosforos=fosforos-5\n",
    "                        print(\"Restam\"+ str(fosforos))\n",
    "                if fosforos == 1:\n",
    "                    print(\"Perdeu, fim de jogo!\")              "
   ]
  },
  {
   "cell_type": "code",
   "execution_count": 4,
   "id": "a63f39c5",
   "metadata": {},
   "outputs": [
    {
     "name": "stdout",
     "output_type": "stream",
     "text": [
      "Bem vindo ao jogo dos 21 fósforos!Deseja jogar em primeiro?\n",
      ".\n",
      "Retiro 1 fósforos\n",
      "Quantos fósforos deseja retirar?\n",
      "4\n",
      "Restam16\n",
      "Retiro 1 fósforos\n",
      "Quantos fósforos deseja retirar?\n",
      "4\n",
      "Restam11\n",
      "Retiro 4 fósforos\n",
      "Quantos fósforos deseja retirar?\n",
      "4\n",
      "Restam3\n",
      "Retiro 2 fósforos.\n",
      "Restam1\n",
      "Perdeu, fim de jogo!\n"
     ]
    }
   ],
   "source": [
    "menu()"
   ]
  },
  {
   "cell_type": "code",
   "execution_count": null,
   "id": "342c2195",
   "metadata": {},
   "outputs": [],
   "source": []
  }
 ],
 "metadata": {
  "kernelspec": {
   "display_name": "Python 3",
   "language": "python",
   "name": "python3"
  },
  "language_info": {
   "codemirror_mode": {
    "name": "ipython",
    "version": 3
   },
   "file_extension": ".py",
   "mimetype": "text/x-python",
   "name": "python",
   "nbconvert_exporter": "python",
   "pygments_lexer": "ipython3",
   "version": "3.8.8"
  }
 },
 "nbformat": 4,
 "nbformat_minor": 5
}
