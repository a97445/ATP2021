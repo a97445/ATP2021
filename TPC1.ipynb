{
 "cells": [
  {
   "cell_type": "code",
   "execution_count": 1,
   "id": "5ce66cff",
   "metadata": {},
   "outputs": [],
   "source": [
    "def menu():\n",
    "    print(\"Bem vindo ao jogo dos 21 fósforos!Deseja jogar em primeiro?\")\n",
    "    x= input()\n",
    "    if x == \"Sim\":\n",
    "        Player()\n",
    "    else:\n",
    "        Comp()"
   ]
  },
  {
   "cell_type": "code",
   "execution_count": 2,
   "id": "7d60ff76",
   "metadata": {},
   "outputs": [],
   "source": [
    "def Player():\n",
    "    fosforos = 21\n",
    "    while fosforos > 1:\n",
    "        print(\"Quantos fósforos deseja retirar?\")\n",
    "        y =int(input())\n",
    "        if y not in range(1,5):\n",
    "            print(\"Número impossível.\")\n",
    "        else:\n",
    "            c=5-int(y)\n",
    "            print(\"Retiro \" + str(c) + \" fósforos.\")\n",
    "            fosforos=fosforos-5\n",
    "            print(\"Restam\"+ str(fosforos))\n",
    "    if fosforos == 1:\n",
    "        print(\"Perdeu, fim de jogo!\")\n"
   ]
  },
  {
   "cell_type": "code",
   "execution_count": null,
   "id": "0e4d8bac",
   "metadata": {},
   "outputs": [],
   "source": [
    "import random\n",
    "def Comp():\n",
    "    fosforos =21\n",
    "    while fosforos>1:\n",
    "        x = random.randrange(1,5)\n",
    "        print(\"Retiro \" + str(x) + \" fósforos\")\n",
    "        print(\"Quantos fósforos deseja retirar?\")\n",
    "        y = int(input())\n",
    "        if y not in range(1,5):\n",
    "            print(\"Número impossível\")\n",
    "        else:\n",
    "            fosforos = fosforos-x-y\n",
    "            print(\"Restam\"+ str(fosforos))\n",
    "            if x + y < 5:\n",
    "                x=5-x-y\n",
    "                print(\"Retiro \" + str(x) +\" fósforos.\")\n",
    "                Player()\n",
    "            elif x + y > 5:\n",
    "                x= 10-x-y\n",
    "                print(\"Retiro \" + str(x) +\" fósforos.\")\n",
    "                Player()\n",
    "    if fosforos-x ==1:\n",
    "        print(\"Perdeu, fim de jogo\")\n",
    "    if fosforos-y==1:\n",
    "        print(\"Parabéns, ganhou\")"
  
