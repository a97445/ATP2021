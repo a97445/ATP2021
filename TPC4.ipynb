{
 "cells": [
  {
   "cell_type": "markdown",
   "id": "8133f509",
   "metadata": {},
   "source": [
    "### Manisfesto\n",
    "**Identificador:** TPC4    \n",
    "**Título:** Operações com frações    \n",
    "**Data de início:** 2021-11-05   \n",
    "**Data de fim:** 2021-10-11       \n",
    "**Supervisor:** José Ramalho,https://www.di.uminho.pt/~jcr/    \n",
    "**Aluno:** Diana Azevedo, A97445    \n",
    "**Resumo:** Esta aplicação permite ao utilizador somar, subtrair, multiplicar ou dividir um conjunto, aleatório ou não, de frações."
   ]
  },
  {
   "cell_type": "code",
   "execution_count": 1,
   "id": "f367008a",
   "metadata": {},
   "outputs": [],
   "source": [
    "def criar_fracao(n,d):\n",
    "    return (n,d)"
   ]
  },
  {
   "cell_type": "code",
   "execution_count": 2,
   "id": "bef09586",
   "metadata": {},
   "outputs": [],
   "source": [
    "def ver_fracao(f):\n",
    "    n,d = f\n",
    "    return (str(n) + \"/\" + str(d))\n",
    "    "
   ]
  },
  {
   "cell_type": "code",
   "execution_count": 3,
   "id": "37ece3a7",
   "metadata": {},
   "outputs": [],
   "source": [
    "def mdc(n,d):\n",
    "    res=1\n",
    "    if n>d:\n",
    "        n,d = d,n\n",
    "    for num in range(2,n+1):\n",
    "        if (n % num == 0) and (d % num == 0):\n",
    "            res = num\n",
    "    return res"
   ]
  },
  {
   "cell_type": "code",
   "execution_count": 4,
   "id": "6fd7ef67",
   "metadata": {},
   "outputs": [],
   "source": [
    "def simplificar_fracao(f):\n",
    "    n,d = f\n",
    "    m = mdc(n,d)\n",
    "    return (int(n/m),int(d/m))"
   ]
  },
  {
   "cell_type": "code",
   "execution_count": 5,
   "id": "6c93e4be",
   "metadata": {},
   "outputs": [],
   "source": [
    "def soma_fracoes(f1,f2):\n",
    "    n1,d1 = f1\n",
    "    n2,d2 = f2\n",
    "    return simplificar_fracao((n1*d2+n2*d1,d1*d2))"
   ]
  },
  {
   "cell_type": "code",
   "execution_count": 6,
   "id": "5ed6d085",
   "metadata": {},
   "outputs": [],
   "source": [
    "def soma_fracoes2(lista):\n",
    "    soma=lista[0]\n",
    "    for frac in range (1,len(lista)):\n",
    "        soma = soma_fracoes(soma,lista[frac])\n",
    "    return ver_fracao(soma)"
   ]
  },
  {
   "cell_type": "code",
   "execution_count": 7,
   "id": "12ff1fc2",
   "metadata": {},
   "outputs": [],
   "source": [
    "def subtracao_fracoes(f1,f2):\n",
    "    n1,d1 = f1\n",
    "    n2,d2 = f2\n",
    "    return simplificar_fracao((n1*d2-n2*d1,d1*d2))"
   ]
  },
  {
   "cell_type": "code",
   "execution_count": 8,
   "id": "f7642a42",
   "metadata": {},
   "outputs": [],
   "source": [
    "def subtracao_fracoes2(lista):\n",
    "    subtracao=lista[0]\n",
    "    for frac in range (1,len(lista)):\n",
    "        subtracao = subtracao_fracoes(subtracao,lista[frac])\n",
    "    return ver_fracao(subtracao)"
   ]
  },
  {
   "cell_type": "code",
   "execution_count": 9,
   "id": "b0af1d90",
   "metadata": {},
   "outputs": [],
   "source": [
    "def multiplicacao_fracoes(f1,f2):\n",
    "    n1,d1 = f1\n",
    "    n2,d2 = f2\n",
    "    return simplificar_fracao((n1*n2,d1*d2))"
   ]
  },
  {
   "cell_type": "code",
   "execution_count": 10,
   "id": "1f40b85f",
   "metadata": {},
   "outputs": [],
   "source": [
    "def multiplicacao_fracoes2(lista):\n",
    "    multiplicacao = lista[0]\n",
    "    for frac in range (1,len(lista)):\n",
    "        multiplicacao = multiplicacao_fracoes(multiplicacao, lista[frac])\n",
    "    return ver_fracao(multiplicacao)"
   ]
  },
  {
   "cell_type": "code",
   "execution_count": 11,
   "id": "c96d1028",
   "metadata": {},
   "outputs": [],
   "source": [
    "def divisao_fracoes(f1,f2):\n",
    "    n1,d1 = f1\n",
    "    n2,d2 = f2\n",
    "    return simplificar_fracao((n1*d2,n2*d1))"
   ]
  },
  {
   "cell_type": "code",
   "execution_count": 12,
   "id": "1e7a851f",
   "metadata": {},
   "outputs": [],
   "source": [
    "def divisao_fracoes2(lista):\n",
    "    divisao = lista[0]\n",
    "    for frac in range (1,len(lista)):\n",
    "        divisao = divisao_fracoes(divisao,lista[frac])\n",
    "    return ver_fracao(divisao)"
   ]
  },
  {
   "cell_type": "code",
   "execution_count": 13,
   "id": "1bddb5af",
   "metadata": {},
   "outputs": [],
   "source": [
    "def criar_lista_manual():\n",
    "    lista = []\n",
    "    i=1\n",
    "    n = int(input(\"Introduza o nº de elementos da lista: \"))\n",
    "    while len(lista) < n:\n",
    "        elem1 = int(input(\"Introduza o numerador do elemento \" + str(i) + \": \"))\n",
    "        elem2 = int(input(\"Introduza o denominador do elemento \" + str(i) + \": \"))\n",
    "        i= i+1\n",
    "        elem = elem1, elem2\n",
    "        elem =criar_fracao(elem1,elem2)\n",
    "        lista.append(elem)\n",
    "    return lista"
   ]
  },
  {
   "cell_type": "code",
   "execution_count": 14,
   "id": "62fb822b",
   "metadata": {},
   "outputs": [],
   "source": [
    "import random\n",
    "def criar_lista_auto():\n",
    "    lista = []\n",
    "    n = int(input(\"Introduza o nº de elementos da lista: \"))\n",
    "    while len(lista) < n:\n",
    "        f = random.randrange(1,21)\n",
    "        d = random.randrange(1,21)\n",
    "        elem =criar_fracao(f,d)\n",
    "        lista.append(elem)\n",
    "    return lista"
   ]
  },
  {
   "cell_type": "code",
   "execution_count": 15,
   "id": "e4a0be8a",
   "metadata": {},
   "outputs": [],
   "source": [
    "def print_lista(lista):\n",
    "    listaa = []\n",
    "    for elem in lista:\n",
    "        listaa.append(ver_fracao(elem))\n",
    "    return listaa"
   ]
  },
  {
   "cell_type": "code",
   "execution_count": null,
   "id": "3e76a0fd",
   "metadata": {
    "scrolled": true
   },
   "outputs": [],
   "source": [
    "def menu():\n",
    "    print('''(1)Gerar uma lista manualmente\n",
    "(2)Gerar uma lista de valores aleatórios\n",
    "(3)Imprimir a lista\n",
    "(4)Limpar a lista\n",
    "(5)Somar frações\n",
    "(6)Substrair frações\n",
    "(7)Multiplicar frações\n",
    "(8)Dividir frações\n",
    "(0)Sair do programa''')\n",
    "opcao =\"-1\"\n",
    "lista=[]\n",
    "while opcao != 0:\n",
    "    menu()\n",
    "    opcao= input(\"Introduza uma opção: \")\n",
    "    if opcao == \"1\":\n",
    "        lista = criar_lista_manual()\n",
    "    elif opcao == \"2\":\n",
    "        lista = criar_lista_auto()\n",
    "    elif opcao == \"3\":\n",
    "        print(print_lista(lista))\n",
    "    elif opcao == \"4\":\n",
    "        lista == lista.clear()\n",
    "    elif opcao == \"5\":\n",
    "        print(soma_fracoes2(lista))\n",
    "    elif opcao == \"6\":\n",
    "        print(subtracao_fracoes2(lista))\n",
    "    elif opcao == \"7\":\n",
    "        print(multiplicacao_fracoes2(lista))\n",
    "    elif opcao == \"8\":\n",
    "        print(divisao_fracoes2(lista))\n",
    "    elif opcao == \"0\":\n",
    "        opcao = 0\n",
    "    else:\n",
    "        print(\"Por favor selecione uma das opções indicadas\")    "
   ]
  }
 ],
 "metadata": {
  "kernelspec": {
   "display_name": "Python 3",
   "language": "python",
   "name": "python3"
  },
  "language_info": {
   "codemirror_mode": {
    "name": "ipython",
    "version": 3
   },
   "file_extension": ".py",
   "mimetype": "text/x-python",
   "name": "python",
   "nbconvert_exporter": "python",
   "pygments_lexer": "ipython3",
   "version": "3.8.8"
  }
 },
 "nbformat": 4,
 "nbformat_minor": 5
}
