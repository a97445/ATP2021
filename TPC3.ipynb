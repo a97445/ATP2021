{
 "cells": [
  {
   "cell_type": "markdown",
   "id": "cc441bec",
   "metadata": {},
   "source": [
    "### Manifesto\n",
    "**Identificador:** TPC3   \n",
    "**Título:** Bubble Sort     \n",
    "**Data de início:** 2021-10-23      \n",
    "**Data de fim:** 2021-10-24     \n",
    "**Supervisor:** José Ramalho,https://www.di.uminho.pt/~jcr/      \n",
    "**Aluno:** Diana Azevedo, A97445    \n",
    "**Resumo:** A função criada tem o propósito de ordenar qualquer lista que lhe for dada, do menor para o maior."
   ]
  },
  {
   "cell_type": "code",
   "execution_count": 7,
   "id": "ec30a593",
   "metadata": {},
   "outputs": [],
   "source": [
    "def bubblesort(lista):\n",
    "    trocas = True\n",
    "    while trocas:\n",
    "        trocas= False\n",
    "        for i in range (len(lista) -1):\n",
    "            if lista[i]>lista[i+1]:\n",
    "                lista[i],lista[i+1]=lista[i+1], lista[i]\n",
    "                trocas=True\n",
    "    return lista\n",
    "                \n"
   ]
  }
 ],
 "metadata": {
  "kernelspec": {
   "display_name": "Python 3",
   "language": "python",
   "name": "python3"
  },
  "language_info": {
   "codemirror_mode": {
    "name": "ipython",
    "version": 3
   },
   "file_extension": ".py",
   "mimetype": "text/x-python",
   "name": "python",
   "nbconvert_exporter": "python",
   "pygments_lexer": "ipython3",
   "version": "3.8.8"
  }
 },
 "nbformat": 4,
 "nbformat_minor": 5
}
