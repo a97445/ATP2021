{
 "cells": [
  {
   "cell_type": "code",
   "execution_count": 1,
   "id": "9588f6e0",
   "metadata": {},
   "outputs": [],
   "source": [
    "def criar_lista_manual():\n",
    "    lista= []\n",
    "    i=1\n",
    "    n=int(input(\"Introduza o nº de elementos da lista: \"))\n",
    "    while len(lista) < n:\n",
    "        elem =input(\"Introduza o elemento \" + str(i) + \":\")\n",
    "        lista.append(elem)\n",
    "        i=i+1\n",
    "    return lista        "
   ]
  },
  {
   "cell_type": "code",
   "execution_count": 2,
   "id": "9dd138c2",
   "metadata": {},
   "outputs": [],
   "source": [
    "import random\n",
    "def criar_lista_auto():\n",
    "    lista= []\n",
    "    n=int(input(\"Introduza o nº de elementos da lista: \"))\n",
    "    while len(lista) < n:\n",
    "        elem = random.randrange(0,101)\n",
    "        lista.append(elem)\n",
    "    return lista"
   ]
  },
  {
   "cell_type": "code",
   "execution_count": null,
   "id": "4d6e58c8",
   "metadata": {},
   "outputs": [],
   "source": [
    "def bubblesort(lista):\n",
    "    trocas = True\n",
    "    while trocas:\n",
    "        for i in range (len(lista) -1):\n",
    "            if lista[i]>lista[i+1]:\n",
    "                lista[i],lista[i+1]=lista[i+1], lista[i]\n",
    "                trocas=True\n",
    "            else:\n",
    "                trocas= False"
   ]
  },
  {
   "cell_type": "code",
   "execution_count": null,
   "id": "f2708884",
   "metadata": {},
   "outputs": [],
   "source": [
    "def menu():\n",
    "    print('''(1)Gerar uma lista manualmente\n",
    "(2)Gerar uma lista de valores aleatórios\n",
    "(3)Imprimir a lista\n",
    "(4)Limpar a lista\n",
    "(5)Ordenar com o bubblesort\n",
    "(0)Sair do programa''')\n",
    "opcao =\"-1\"\n",
    "lista=[]\n",
    "while opcao != 0:\n",
    "    menu()\n",
    "    opcao= input(\"Introduza uma opção:\")\n",
    "    if opcao == \"1\":\n",
    "        lista = criar_lista_manual()\n",
    "    elif opcao == \"2\":\n",
    "        lista = criar_lista_auto()\n",
    "    elif opcao == \"3\":\n",
    "        print (lista)\n",
    "    elif opcao == \"4\":\n",
    "        lista =lista.clear()\n",
    "    elif opcao == \"5\":\n",
    "        lista = bubblesort()\n",
    "    elif opcao == \"0\":\n",
    "        opcao = 0\n",
    "    else:\n",
    "        print(\"Por favor selecione uma das opções indicadas\")\n",
    "\n",
    "        "
   ]
  }
 ],
 "metadata": {
  "kernelspec": {
   "display_name": "Python 3",
   "language": "python",
   "name": "python3"
  },
  "language_info": {
   "codemirror_mode": {
    "name": "ipython",
    "version": 3
   },
   "file_extension": ".py",
   "mimetype": "text/x-python",
   "name": "python",
   "nbconvert_exporter": "python",
   "pygments_lexer": "ipython3",
   "version": "3.8.8"
  }
 },
 "nbformat": 4,
 "nbformat_minor": 5
}
