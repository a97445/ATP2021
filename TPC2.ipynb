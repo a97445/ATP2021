{
 "cells": [
  {
   "cell_type": "markdown",
   "id": "569d50cf",
   "metadata": {},
   "source": [
    "## Manisfesto\n",
    "**Identificador:** TP2    \n",
    "**Título:** Jogo da Adivinhação   \n",
    "**Data de Início:** 2021-10-20    \n",
    "**Data de Fim:** 2021-10-20    \n",
    "**Supervisor:** José Ramalho,    \n",
    "**Autor:** Diana Azevedo, A97445    \n",
    "**Resumo:** O jogo da adivinhação consiste em o usuário pensar num número entre 0 e 100 e o computador adivinhar esse mesmo valor no menor número de tentativas possível."
   ]
  },
  {
   "cell_type": "code",
   "execution_count": null,
   "id": "95b892ab",
   "metadata": {},
   "outputs": [],
   "source": [
    "def jogo_adivinhaçao():\n",
    "    print(\"********************************+\")\n",
    "    print(\"Bem-vindo ao jogo da adivinhação\")\n",
    "    print(\"*********************************\\n\")\n",
    "    print(\"Pense num número de 0 a 100 e eu vou tentar adivinhar.\")\n",
    "    print(\"Quando já tiver pensado num número pressione qualquer tecla.\")\n",
    "    input()\n",
    "    acertou = False\n",
    "    inf, sup = 0,100\n",
    "    resp_comp = int((sup - inf) / 2)\n",
    "    while not acertou:\n",
    "        print(\"Pensou no número \" + str(resp_comp) + \"?\")\n",
    "        resp_jog = input()\n",
    "        if resp_jog == \"Sim\":\n",
    "            acertou = True\n",
    "        else:\n",
    "            print(\"O número que pensou é maior ou menor?\")\n",
    "            resp_jog= input()\n",
    "            if resp_jog == \"Maior\":\n",
    "                inf = resp_comp + 1\n",
    "            else:\n",
    "                sup = resp_comp - 1\n",
    "            resp_comp = int((sup - inf) / 2) + inf\n",
    "                \n",
    "    print(\"Acertei!!\")"
   ]
  },
  {
   "cell_type": "code",
   "execution_count": null,
   "id": "9c530061",
   "metadata": {},
   "outputs": [],
   "source": [
    "jogo_adivinhaçao()"
   ]
  }
 ],
 "metadata": {
  "kernelspec": {
   "display_name": "Python 3",
   "language": "python",
   "name": "python3"
  },
  "language_info": {
   "codemirror_mode": {
    "name": "ipython",
    "version": 3
   },
   "file_extension": ".py",
   "mimetype": "text/x-python",
   "name": "python",
   "nbconvert_exporter": "python",
   "pygments_lexer": "ipython3",
   "version": "3.8.8"
  }
 },
 "nbformat": 4,
 "nbformat_minor": 5
}
